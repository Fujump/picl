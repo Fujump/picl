{
 "cells": [
  {
   "cell_type": "code",
   "execution_count": 3,
   "metadata": {},
   "outputs": [
    {
     "name": "stdout",
     "output_type": "stream",
     "text": [
      "Data has been successfully written to illegal.jsonl\n"
     ]
    }
   ],
   "source": [
    "import csv\n",
    "import json\n",
    "\n",
    "# 定义输入和输出文件路径\n",
    "csv_file_path = 'sex.csv'\n",
    "jsonl_file_path = 'illegal.jsonl'\n",
    "\n",
    "# 读取 CSV 文件并转换为所需格式\n",
    "data = []\n",
    "with open(csv_file_path, 'r', encoding='utf-8') as csv_file:\n",
    "    reader = csv.DictReader(csv_file)\n",
    "    for row in reader:\n",
    "        formatted_data = {\n",
    "            \"label_sub\":\"淫秽色情\",\n",
    "            \"label_total\":\"违规\",\n",
    "            \"text\":row[\"tweet_content\"],\n",
    "        }\n",
    "        data.append(formatted_data)\n",
    "\n",
    "# 将转换后的数据写入 JSONL 文件\n",
    "with open(jsonl_file_path, 'a', encoding='utf-8') as jsonl_file:\n",
    "    for entry in data:\n",
    "        jsonl_file.write(json.dumps(entry, ensure_ascii=False) + '\\n')\n",
    "\n",
    "print(f\"Data has been successfully written to {jsonl_file_path}\")"
   ]
  },
  {
   "cell_type": "code",
   "execution_count": 6,
   "metadata": {},
   "outputs": [
    {
     "name": "stdout",
     "output_type": "stream",
     "text": [
      "Data has been successfully shuffled and written to all_data.jsonl\n"
     ]
    }
   ],
   "source": [
    "import json\n",
    "import random\n",
    "\n",
    "# 定义输入和输出文件路径\n",
    "jsonl_file_path = 'illegal.jsonl'\n",
    "shuffled_jsonl_file_path = 'all_data.jsonl'\n",
    "\n",
    "# 读取 JSONL 文件中的所有数据\n",
    "data = []\n",
    "with open(jsonl_file_path, 'r', encoding='utf-8') as jsonl_file:\n",
    "    for line in jsonl_file:\n",
    "        try:\n",
    "            json_data = json.loads(line.strip())  # 去掉行尾的空白字符并解析JSON\n",
    "            data.append(json_data)\n",
    "        except json.JSONDecodeError as e:\n",
    "            print(f\"Error decoding JSON: {e}\")\n",
    "            print(f\"Offending line: {line}\")\n",
    "\n",
    "# 打乱数据顺序\n",
    "random.shuffle(data)\n",
    "\n",
    "# 将打乱顺序后的数据写回 JSONL 文件\n",
    "with open(shuffled_jsonl_file_path, 'w', encoding='utf-8') as jsonl_file:\n",
    "    for entry in data:\n",
    "        jsonl_file.write(json.dumps(entry, ensure_ascii=False) + '\\n')\n",
    "\n",
    "print(f\"Data has been successfully shuffled and written to {shuffled_jsonl_file_path}\")\n"
   ]
  }
 ],
 "metadata": {
  "kernelspec": {
   "display_name": "picl",
   "language": "python",
   "name": "python3"
  },
  "language_info": {
   "codemirror_mode": {
    "name": "ipython",
    "version": 3
   },
   "file_extension": ".py",
   "mimetype": "text/x-python",
   "name": "python",
   "nbconvert_exporter": "python",
   "pygments_lexer": "ipython3",
   "version": "3.10.14"
  }
 },
 "nbformat": 4,
 "nbformat_minor": 2
}
